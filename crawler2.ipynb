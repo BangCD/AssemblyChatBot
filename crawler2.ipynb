{
 "cells": [
  {
   "cell_type": "code",
   "execution_count": 1,
   "metadata": {},
   "outputs": [],
   "source": [
    "import json \n",
    "import requests\n",
    "import re\n",
    "import urllib.request\n",
    "from bs4 import BeautifulSoup\n",
    "from collections import deque\n",
    "from html.parser import HTMLParser\n",
    "from urllib.parse import urlparse\n",
    "import os\n",
    "import pandas as pd\n",
    "import tiktoken\n",
    "import openai\n",
    "import numpy as np\n",
    "from openai.embeddings_utils import distances_from_embeddings, cosine_similarity\n",
    "from urllib.request import Request, urlopen\n",
    "from urllib.error import HTTPError\n",
    "\n",
    "\n"
   ]
  },
  {
   "cell_type": "code",
   "execution_count": 12,
   "metadata": {},
   "outputs": [
    {
     "name": "stderr",
     "output_type": "stream",
     "text": [
      "UsageError: Environment does not have key: openAIkey\n"
     ]
    }
   ],
   "source": [
    "%env openAIkey"
   ]
  },
  {
   "cell_type": "code",
   "execution_count": 13,
   "metadata": {},
   "outputs": [
    {
     "name": "stderr",
     "output_type": "stream",
     "text": [
      "UsageError: Environment does not have key: openAIkey\n"
     ]
    }
   ],
   "source": [
    "openai.api_key= %env openAIkey"
   ]
  },
  {
   "cell_type": "code",
   "execution_count": 2,
   "metadata": {},
   "outputs": [],
   "source": [
    "openai.api_key= #API KEYS GOES HERE "
   ]
  },
  {
   "cell_type": "code",
   "execution_count": 15,
   "metadata": {},
   "outputs": [],
   "source": [
    "\n",
    "# Regex pattern to match a URL\n",
    "HTTP_URL_PATTERN = r'^http[s]*://.+'\n",
    "\n",
    "# Define root domain to crawl\n",
    "domain = \"infive.ae\"\n",
    "full_url = \"https://infive.ae/\"\n",
    "# domain = \"openai.com\"\n",
    "# full_url = \"https://openai.com/\""
   ]
  },
  {
   "cell_type": "code",
   "execution_count": 16,
   "metadata": {},
   "outputs": [],
   "source": [
    "\n",
    "# Create a class to parse the HTML and get the hyperlinks\n",
    "class HyperlinkParser(HTMLParser):\n",
    "    def __init__(self):\n",
    "        super().__init__()\n",
    "        # Create a list to store the hyperlinks\n",
    "        self.hyperlinks = []\n",
    "\n",
    "    # Override the HTMLParser's handle_starttag method to get the hyperlinks\n",
    "    def handle_starttag(self, tag, attrs):\n",
    "        attrs = dict(attrs)\n",
    "\n",
    "        # If the tag is an anchor tag and it has an href attribute, add the href attribute to the list of hyperlinks\n",
    "        if tag == \"a\" and \"href\" in attrs:\n",
    "            self.hyperlinks.append(attrs[\"href\"])\n"
   ]
  },
  {
   "cell_type": "code",
   "execution_count": 17,
   "metadata": {},
   "outputs": [],
   "source": [
    "\n",
    "# Function to get the hyperlinks from a URL\n",
    "def get_hyperlinks(url):\n",
    "    \n",
    "    # Try to open the URL and read the HTML\n",
    "    try:\n",
    "        # Open the URL and read the HTML\n",
    "        with urllib.request.urlopen(url) as response:\n",
    "\n",
    "            # If the response is not HTML, return an empty list\n",
    "            if not response.info().get('Content-Type').startswith(\"text/html\"):\n",
    "                return []\n",
    "            \n",
    "            # Decode the HTML\n",
    "            html = response.read().decode('utf-8')\n",
    "    except Exception as e:\n",
    "        print(e)\n",
    "        return []\n",
    "\n",
    "    # Create the HTML Parser and then Parse the HTML to get hyperlinks\n",
    "    parser = HyperlinkParser()\n",
    "    parser.feed(html)\n",
    "\n",
    "    return parser.hyperlinks"
   ]
  },
  {
   "cell_type": "code",
   "execution_count": 18,
   "metadata": {},
   "outputs": [],
   "source": [
    "\n",
    "# Function to get the hyperlinks from a URL that are within the same domain\n",
    "def get_domain_hyperlinks(local_domain, url):\n",
    "    clean_links = []\n",
    "    for link in set(get_hyperlinks(url)):\n",
    "        clean_link = None\n",
    "\n",
    "        # If the link is a URL, check if it is within the same domain\n",
    "        if re.search(HTTP_URL_PATTERN, link):\n",
    "            # Parse the URL and check if the domain is the same\n",
    "            url_obj = urlparse(link)\n",
    "            if url_obj.netloc == local_domain:\n",
    "                clean_link = link\n",
    "\n",
    "        # If the link is not a URL, check if it is a relative link\n",
    "        else:\n",
    "            if link.startswith(\"/\"):\n",
    "                link = link[1:]\n",
    "            elif link.startswith(\"#\") or link.startswith(\"mailto:\"):\n",
    "                continue\n",
    "            clean_link = \"https://\" + local_domain + \"/\" + link\n",
    "\n",
    "        if clean_link is not None:\n",
    "            if clean_link.endswith(\"/\"):\n",
    "                clean_link = clean_link[:-1]\n",
    "            clean_links.append(clean_link)\n",
    "\n",
    "    # Return the list of hyperlinks that are within the same domain\n",
    "    return list(set(clean_links))\n"
   ]
  },
  {
   "cell_type": "code",
   "execution_count": 19,
   "metadata": {},
   "outputs": [],
   "source": [
    "local_domain = urlparse(full_url).netloc"
   ]
  },
  {
   "cell_type": "code",
   "execution_count": 20,
   "metadata": {},
   "outputs": [],
   "source": [
    "queue = deque([full_url])"
   ]
  },
  {
   "cell_type": "code",
   "execution_count": 21,
   "metadata": {},
   "outputs": [],
   "source": [
    "seen = set([full_url])"
   ]
  },
  {
   "cell_type": "code",
   "execution_count": 22,
   "metadata": {},
   "outputs": [],
   "source": [
    "brokenURL=[]"
   ]
  },
  {
   "cell_type": "code",
   "execution_count": 23,
   "metadata": {},
   "outputs": [
    {
     "name": "stdout",
     "output_type": "stream",
     "text": [
      "[]\n"
     ]
    }
   ],
   "source": [
    "print(brokenURL)"
   ]
  },
  {
   "cell_type": "code",
   "execution_count": 24,
   "metadata": {},
   "outputs": [
    {
     "name": "stdout",
     "output_type": "stream",
     "text": [
      "deque(['https://infive.ae/'])\n"
     ]
    }
   ],
   "source": [
    "print(queue)"
   ]
  },
  {
   "cell_type": "code",
   "execution_count": 25,
   "metadata": {},
   "outputs": [],
   "source": [
    "invalidlinkList=['jpg','pdf','png']"
   ]
  },
  {
   "cell_type": "code",
   "execution_count": 26,
   "metadata": {},
   "outputs": [
    {
     "name": "stdout",
     "output_type": "stream",
     "text": [
      "deque(['https://infive.ae/'])\n"
     ]
    }
   ],
   "source": [
    "print(queue)"
   ]
  },
  {
   "cell_type": "code",
   "execution_count": 27,
   "metadata": {},
   "outputs": [
    {
     "name": "stdout",
     "output_type": "stream",
     "text": [
      "https://infive.ae/\n",
      "https://infive.ae/product/training-room-at-in5-media\n",
      "https://infive.ae/startups\n",
      "https://infive.ae/product/meeting-room-at-in5-design\n",
      "https://infive.ae/in5-news\n",
      "https://infive.ae/in5-news/3\n",
      "https://infive.ae/in5-news/2\n",
      "https://infive.ae/product/conference-hall-at-in5-tech\n",
      "https://infive.ae/product/main-production-studio-at-in5-media\n",
      "https://infive.ae/product/design-prototyping-lab\n",
      "https://infive.ae/wp-content/uploads/2023/03/in5-Prototyping-Lab-Tools-and-Equipment.pdf\n",
      "https://infive.ae/product/mini-production-studio-at-in5-media\n",
      "https://infive.ae/product/outdoor-area-at-in5-design\n",
      "https://infive.ae/wp-content/uploads/2021/08/IMG_2802-scaled.jpg\n",
      "https://infive.ae/dashboard/%22https:/www.dubaiapprovals.com/services/dtcm-permit/%22\n",
      "HTTP Error 404: Not Found\n",
      "https://infive.ae/wp-content/uploads/2021/08/IN5-D3-PHOTOSHOOT-190219-HR-4-of-55-scaled.jpg\n",
      "https://infive.ae/wp-content/uploads/2021/08/IMG_2813-scaled.jpg\n",
      "https://infive.ae/wp-content/uploads/2021/08/IMG_2836-scaled.jpg\n",
      "https://infive.ae/wp-content/uploads/2021/08/IMG_2858-scaled.jpg\n",
      "https://infive.ae/dashboard/%22https:/portal.filmdubai.gov.ae/%22\n",
      "HTTP Error 404: Not Found\n",
      "https://infive.ae/wp-content/uploads/2021/08/IMG_2807-scaled.jpg\n",
      "https://infive.ae/wp-content/uploads/2021/08/IMG_2837-scaled.jpg\n",
      "https://infive.ae/wp-content/uploads/2021/08/IMG_2800-scaled.jpg\n",
      "https://infive.ae/wp-content/uploads/2021/08/IMG_2838-scaled.jpg\n",
      "https://infive.ae/product/screening-room-at-in5-media\n",
      "https://infive.ae/product/outdoor-event-area-at-in5-tech\n",
      "https://infive.ae/wp-content/uploads/2021/08/IMG_2751-scaled.jpg\n",
      "https://infive.ae/wp-content/uploads/2021/08/IMG_2754-scaled.jpg\n",
      "https://infive.ae/wp-content/uploads/2021/08/IMG_2755-scaled.jpg\n",
      "https://infive.ae/wp-content/uploads/2022/02/in5-to-spotlight-10-homegrown-tech-start-ups-at-Step-Conference-2022.jpg\n",
      "https://infive.ae/wp-content/uploads/2021/08/IMG_2757-scaled.jpg\n",
      "https://infive.ae/wp-content/uploads/2021/08/IMG_2753-scaled.jpg\n",
      "https://infive.ae/wp-content/uploads/2021/08/In5-Tech-1-scaled.jpg\n",
      "https://infive.ae/privacy-notice\n",
      "https://infive.ae/product/green-room-at-in5-media\n",
      "https://infive.ae/product/in5-membership\n",
      "https://infive.ae/student-membership-regsitration\n",
      "https://infive.ae\n",
      "https://infive.ae/wp-content/uploads/2022/01/website-terms-of-use.pdf\n",
      "https://infive.ae/news/7-dubai-born-fashion-labels-to-watch-out-for-in-2022\n",
      "https://infive.ae/news/after-a-remarkable-year-of-growth-in5-showcases-20-innovative-start-ups-at-step-conference-2023\n",
      "https://infive.ae/contact-us\n",
      "https://infive.ae/wp-content/uploads/2021/08/design-map.pdf\n",
      "https://infive.ae/wp-content/uploads/2021/08/tech-map.pdf\n",
      "https://infive.ae/wp-content/uploads/2021/08/media-map.pdf\n",
      "https://infive.ae/product/in5-media-outdoor\n",
      "https://infive.ae/wp-content/uploads/2022/02/Outdoor-in5-Media-1.jpg\n",
      "https://infive.ae/wp-content/uploads/2022/02/Outdoor-in5-Media.jpg\n",
      "https://infive.ae/wp-content/uploads/2022/02/M3.jpg\n",
      "https://infive.ae/wp-content/uploads/2022/02/M2.jpg\n",
      "https://infive.ae/wp-content/uploads/2022/02/M4.jpg\n",
      "https://infive.ae/wp-content/uploads/2022/02/M8.jpg\n",
      "https://infive.ae/wp-content/uploads/2022/02/M9.jpg\n",
      "https://infive.ae/wp-content/uploads/2022/02/M5.jpg\n",
      "https://infive.ae/wp-content/uploads/2022/02/M7.jpg\n",
      "https://infive.ae/wp-content/uploads/2022/02/M6.jpg\n",
      "https://infive.ae/in5-tech\n",
      "https://infive.ae/setup/apply/?app_type=tech\n",
      "https://infive.ae/javascript:;\n",
      "HTTP Error 404: Not Found\n",
      "https://infive.ae/tecom-group/#aboutIn5\n",
      "HTTP Error 404: Not Found\n",
      "https://infive.ae/live-chat\n",
      "HTTP Error 404: Not Found\n",
      "https://infive.ae/setup/directory\n",
      "https://infive.ae/setup/apply/?app_type=media\n",
      "https://infive.ae/who-we-are/#theTeam\n",
      "HTTP Error 404: Not Found\n",
      "https://infive.ae/news\n",
      "HTTP Error 404: Not Found\n",
      "https://infive.ae/faq\n",
      "https://infive.ae/setup/apply/?app_type=design\n",
      "https://infive.ae/recover-password\n",
      "HTTP Error 404: Not Found\n",
      "https://infive.ae/who-we-are/#aboutIn5\n",
      "HTTP Error 404: Not Found\n",
      "https://infive.ae/setup/in5ide/issue1\n",
      "HTTP Error 404: Not Found\n",
      "https://infive.ae/contact\n",
      "https://infive.ae/setup\n",
      "https://infive.ae/apply/?app_type=design\n",
      "HTTP Error 404: Not Found\n",
      "https://infive.ae/apply/?app_type=media\n",
      "HTTP Error 404: Not Found\n",
      "https://infive.ae/apply/?app_type=tech\n",
      "HTTP Error 404: Not Found\n",
      "https://infive.ae/who-we-are/#aboutDubai\n",
      "HTTP Error 404: Not Found\n",
      "https://infive.ae/setup/login\n",
      "https://infive.ae/javascript:void(0)\n",
      "HTTP Error 404: Not Found\n",
      "https://infive.ae/facilities/#in5-Tech\n",
      "https://infive.ae/wp-content/uploads/2022/01/in5_VenuesTCs_Doc.pdf\n",
      "https://infive.ae/product/outdoor-area\n",
      "https://infive.ae/setup/wp-content/uploads/2020/08/Tech-Business-Plan-Template-1.pdf\n",
      "https://infive.ae/product/in5-design-fashion-lab\n",
      "https://infive.ae/wp-content/uploads/2021/08/Low-res-72dpi-IN5-D3-PHOTOSHOOT-190219-HR-17-of-55.jpg\n",
      "https://infive.ae/wp-content/uploads/2021/08/MicrosoftTeams-image-2.jpg\n",
      "https://infive.ae/wp-content/uploads/2021/08/Fashion-Lab-Poster-Trimmed-1.png\n",
      "https://infive.ae/product/board-room-at-in5-media\n",
      "https://infive.ae/news/in5-to-launch-a-dedicated-space-for-investors-to-drive-investment-and-entrepreneurship-in-the-region\n",
      "https://infive.ae/product/board-room-at-in5-tech\n",
      "https://infive.ae/product/in5-media-mini-production-studio-2\n",
      "https://infive.ae/in5-design\n",
      "https://infive.ae/facilities/#in5-Design\n",
      "https://infive.ae/product/voice-recording-studio-at-in5-media\n",
      "https://infive.ae/in5-media\n",
      "https://infive.ae/facilities/#in5-Media\n",
      "https://infive.ae/about-us\n",
      "https://infive.ae/atypical\n",
      "https://infive.ae/news/in5-launches-permanent-fashion-and-design-pop-up-store-atypical-during-dubai-design-week\n",
      "https://infive.ae/product/investors-space-meeting-room\n",
      "https://infive.ae/wp-content/uploads/2022/03/SG_IN5Villa14_01b-scaled.jpg\n",
      "https://infive.ae/wp-content/uploads/2022/03/SG_IN5Villa14_00a-scaled.jpg\n",
      "https://infive.ae/wp-content/uploads/2022/03/SauceCapital_17Dec2021_10.jpg\n",
      "https://infive.ae/wp-content/uploads/2022/03/Outdoor-Swing.jpg\n",
      "https://infive.ae/wp-content/uploads/2022/03/SG_IN5Villa14_01a-scaled.jpg\n",
      "https://infive.ae/wp-content/uploads/2022/03/SG_IN5Villa14_03b-scaled.jpg\n",
      "https://infive.ae/wp-content/uploads/2022/03/Outdoor-BV14.jpg\n",
      "https://infive.ae/all-events\n",
      "https://infive.ae/cookies-notice\n",
      "https://infive.ae/product/meeting-room-at-in5-tech\n",
      "https://infive.ae/product/meeting-room-at-in5-media\n",
      "https://infive.ae/news/dubai-based-business-incubator-in5-to-spotlight-10-homegrown-tech-start-ups-at-step-conference-2022\n",
      "https://infive.ae/product/multi-functional-hall-at-in5-tech\n",
      "https://infive.ae/news/in5-start-up-educatly-user-base-increased-5x-between-january-and-september\n",
      "https://infive.ae/facilities\n",
      "https://infive.ae/startups-2\n",
      "https://infive.ae/product/training-room-at-in5-design\n",
      "https://infive.ae/in5-perks\n",
      "https://infive.ae/product/lounge-area-at-in5-media\n",
      "https://infive.ae/product/editing-suites-at-in5-media\n",
      "https://infive.ae/business-setup\n",
      "https://infive.ae/faqs\n"
     ]
    }
   ],
   "source": [
    "count = 0\n",
    "while queue:\n",
    "# for i in range(0,30):\n",
    "\n",
    "        # Get the next URL from the queue\n",
    "        url = queue.pop()\n",
    "        print(url) # for debugging and to see the progress\n",
    "\n",
    "        if url[-3:] not in invalidlinkList:\n",
    "        \n",
    "            try:\n",
    "                q=Request(url)\n",
    "                r=urlopen(q).read()\n",
    "                soup=BeautifulSoup(r,\"html.parser\")\n",
    "                with open('text/'+local_domain+'/'+url[8:].replace(\"/\", \"_\").replace(\"?\",\"_\") + \".txt\", \"w\",encoding=\"utf-8\") as f:\n",
    "                    text=soup.get_text()\n",
    "                    f.write(text)\n",
    "            except HTTPError as err:\n",
    "                if err.code==404:\n",
    "                    brokenURL.append(url)\n",
    "            \n",
    "        \n",
    "            # with open('text/'+local_domain+'/'+url[8:].replace(\"/\", \"_\").replace(\"?\",\"_\") + \".txt\", \"w\",encoding=\"utf-8\") as f:\n",
    "            #     text=soup.get_text()\n",
    "            #     f.write(text)\n",
    "        else:\n",
    "            brokenURL.append(url)\n",
    "            \n",
    "        \n",
    "        for link in get_domain_hyperlinks(local_domain, url):\n",
    "            if link not in seen:\n",
    "                queue.append(link)\n",
    "                seen.add(link)\n",
    "        \n",
    "        # # Save text from the url to a <url>.txt file\n",
    "        # with open( 'text/'+local_domain+'/'+url[8:].replace(\"/\", \"_\").replace(\"?\",\"_\") + \".txt\", \"w\",encoding=\"utf-8\") as f:\n",
    "        #     try:\n",
    "        #         q=Request(url)\n",
    "        #         r= urlopen(q).read()\n",
    "        #         soup = BeautifulSoup(r, \"html.parser\")\n",
    "\n",
    "        #         # Get the text but remove the tags\n",
    "        #         text = soup.get_text()\n",
    "\n",
    "            \n",
    "        #         print(\"Count: \",count,\" : \",text)\n",
    "        #         count+=1\n",
    "        #     except HTTPError as err:\n",
    "        #         if err.code==404:\n",
    "        #             brokenURL.append(url)\n",
    "                    \n",
    "        #     f.write(text)\n",
    "                    \n",
    "            # Get the text from the URL using BeautifulSoup\n",
    "            \n",
    "\n",
    "            # If the crawler gets to a page that requires JavaScript, it will stop the crawl\n",
    "        #     if (\"You need to enable JavaScript to run this app.\" in text):\n",
    "        #         print(\"Unable to parse page \" + url + \" due to JavaScript being required\")\n",
    "            \n",
    "        #     # Otherwise, write the text to the file in the text directory\n",
    "        #     f.write(text)\n",
    "\n",
    "        # Get the hyperlinks from the URL and add them to the queue\n",
    "        # else:\n",
    "        #     brokenURL.append(url)\n",
    "        # for link in get_domain_hyperlinks(local_domain, url):\n",
    "        #     if link not in seen:\n",
    "        #         queue.append(link)\n",
    "        #         seen.add(link)"
   ]
  },
  {
   "cell_type": "code",
   "execution_count": 28,
   "metadata": {},
   "outputs": [],
   "source": [
    "from selenium import webdriver\n",
    "from selenium.webdriver.common.keys import Keys\n",
    "\n",
    "from selenium.webdriver.common.by import By \n",
    "\n",
    "from webdriver_manager.chrome import ChromeDriverManager\n",
    "\n",
    "from selenium.webdriver.chrome.service import Service as ChromeService\n",
    "from webdriver_manager.chrome import ChromeDriverManager\n",
    "from selenium.webdriver.common.action_chains import ActionChains\n",
    "from selenium.common.exceptions import WebDriverException \n",
    "import csv\n",
    "import re"
   ]
  },
  {
   "cell_type": "code",
   "execution_count": 29,
   "metadata": {},
   "outputs": [
    {
     "name": "stderr",
     "output_type": "stream",
     "text": [
      "[WDM] - Downloading: 100%|██████████| 6.81M/6.81M [00:00<00:00, 9.49MB/s]\n"
     ]
    }
   ],
   "source": [
    "# selenium 4\n",
    "from selenium import webdriver\n",
    "from selenium.webdriver.chrome.service import Service as ChromeService\n",
    "from webdriver_manager.chrome import ChromeDriverManager\n",
    "\n",
    "driver = webdriver.Chrome(service=ChromeService(ChromeDriverManager().install()))\n",
    "\n",
    "driver.get(\"https://infive.ae/setup/directory\")\n",
    "title = driver.title\n",
    "driver.implicitly_wait(0.5)"
   ]
  },
  {
   "cell_type": "code",
   "execution_count": 30,
   "metadata": {},
   "outputs": [
    {
     "name": "stdout",
     "output_type": "stream",
     "text": [
      "Element is not clickable \n"
     ]
    }
   ],
   "source": [
    "actions = ActionChains(driver)\n",
    "load_more=driver.find_elements(by=By.CLASS_NAME, value=\"primaryBtn\")\n",
    "\n",
    "while(len(load_more)>=1):\n",
    "    driver.implicitly_wait(1)\n",
    "\n",
    "    actions.move_to_element(load_more[0]).perform()\n",
    "    try:\n",
    "        driver.implicitly_wait(1)\n",
    "        load_more[0].click()\n",
    "    except WebDriverException:\n",
    "        print(\"Element is not clickable \")\n",
    "        break \n",
    "page_source = driver.page_source\n",
    "url='https://infive.ae/setup/directory'\n",
    "soup = BeautifulSoup(page_source, \"lxml\")\n",
    "with open('text/'+local_domain+'/'+url[8:].replace(\"/\", \"_\").replace(\"?\",\"_\") + \".txt\", \"w\",encoding=\"utf-8\") as f:\n",
    "                    text=soup.get_text()\n",
    "                    f.write(text)"
   ]
  },
  {
   "cell_type": "code",
   "execution_count": 31,
   "metadata": {},
   "outputs": [],
   "source": [
    "\n",
    "# def crawl(url):\n",
    "#     # Parse the URL and get the domain\n",
    "#     local_domain = urlparse(url).netloc\n",
    "\n",
    "#     # Create a queue to store the URLs to crawl\n",
    "#     queue = deque([url])\n",
    "\n",
    "#     # Create a set to store the URLs that have already been seen (no duplicates)\n",
    "#     seen = set([url])\n",
    "\n",
    "#     # Create a directory to store the text files\n",
    "#     if not os.path.exists(\"text/\"):\n",
    "#             os.mkdir(\"text/\")\n",
    "\n",
    "#     if not os.path.exists(\"text/\"+local_domain+\"/\"):\n",
    "#             os.mkdir(\"text/\" + local_domain + \"/\")\n",
    "\n",
    "#     # Create a directory to store the csv files\n",
    "#     if not os.path.exists(\"processed\"):\n",
    "#             os.mkdir(\"processed\")\n",
    "\n",
    "#     # While the queue is not empty, continue crawling\n",
    "#     while queue:\n",
    "\n",
    "#         # Get the next URL from the queue\n",
    "#         url = queue.pop()\n",
    "#         print(url) # for debugging and to see the progress\n",
    "\n",
    "#         # Save text from the url to a <url>.txt file\n",
    "#         with open( 'text/'+local_domain+'/'+url[8:].replace(\"/\", \"_\").replace(\"?\",\"_\") + \".txt\", \"w\",encoding=\"utf-8\") as f:\n",
    "\n",
    "#             # Get the text from the URL using BeautifulSoup\n",
    "#             soup = BeautifulSoup(requests.get(url).text, \"html.parser\")\n",
    "\n",
    "#             # Get the text but remove the tags\n",
    "#             text = soup.get_text()\n",
    "\n",
    "#             # If the crawler gets to a page that requires JavaScript, it will stop the crawl\n",
    "#             if (\"You need to enable JavaScript to run this app.\" in text):\n",
    "#                 print(\"Unable to parse page \" + url + \" due to JavaScript being required\")\n",
    "            \n",
    "#             # Otherwise, write the text to the file in the text directory\n",
    "#             f.write(text)\n",
    "\n",
    "#         # Get the hyperlinks from the URL and add them to the queue\n",
    "#         for link in get_domain_hyperlinks(local_domain, url):\n",
    "#             if link not in seen:\n",
    "#                 queue.append(link)\n",
    "#                 seen.add(link)"
   ]
  },
  {
   "cell_type": "code",
   "execution_count": 32,
   "metadata": {},
   "outputs": [],
   "source": [
    "# crawl(full_url)"
   ]
  },
  {
   "cell_type": "code",
   "execution_count": 33,
   "metadata": {},
   "outputs": [],
   "source": [
    "\n",
    "def remove_newlines(serie):\n",
    "    serie = serie.str.replace('\\n', ' ')\n",
    "    serie = serie.str.replace('\\\\n', ' ')\n",
    "    serie = serie.str.replace('  ', ' ')\n",
    "    serie = serie.str.replace('  ', ' ')\n",
    "    return serie"
   ]
  },
  {
   "cell_type": "code",
   "execution_count": 34,
   "metadata": {},
   "outputs": [],
   "source": [
    "texts=[]\n",
    "\n",
    "# Get all the text files in the text directory\n",
    "for file in os.listdir(\"text/\" + domain + \"/\"):\n",
    "\n",
    "    # Open the file and read the text\n",
    "    with open(\"text/\" + domain + \"/\" + file, \"r\", encoding=\"UTF-8\") as f:\n",
    "        text = f.read()\n",
    "\n",
    "        # Omit the first 11 lines and the last 4 lines, then replace -, _, and #update with spaces.\n",
    "        texts.append((file[:-4].replace('-',' ').replace('_', ' ').replace('#update',''), text))\n",
    "\n",
    "        # texts.append((file[11:-4].replace('-',' ').replace('_', ' ').replace('#update',''), text))\n"
   ]
  },
  {
   "cell_type": "code",
   "execution_count": 35,
   "metadata": {},
   "outputs": [],
   "source": [
    "df = pd.DataFrame(texts, columns = ['fname', 'text'])\n"
   ]
  },
  {
   "cell_type": "code",
   "execution_count": 36,
   "metadata": {},
   "outputs": [
    {
     "name": "stderr",
     "output_type": "stream",
     "text": [
      "C:\\Users\\Harman\\AppData\\Local\\Temp\\ipykernel_15692\\3204937076.py:3: FutureWarning: The default value of regex will change from True to False in a future version.\n",
      "  serie = serie.str.replace('\\\\n', ' ')\n"
     ]
    },
    {
     "data": {
      "text/html": [
       "<div>\n",
       "<style scoped>\n",
       "    .dataframe tbody tr th:only-of-type {\n",
       "        vertical-align: middle;\n",
       "    }\n",
       "\n",
       "    .dataframe tbody tr th {\n",
       "        vertical-align: top;\n",
       "    }\n",
       "\n",
       "    .dataframe thead th {\n",
       "        text-align: right;\n",
       "    }\n",
       "</style>\n",
       "<table border=\"1\" class=\"dataframe\">\n",
       "  <thead>\n",
       "    <tr style=\"text-align: right;\">\n",
       "      <th></th>\n",
       "      <th>fname</th>\n",
       "      <th>text</th>\n",
       "    </tr>\n",
       "  </thead>\n",
       "  <tbody>\n",
       "    <tr>\n",
       "      <th>0</th>\n",
       "      <td>infive.ae</td>\n",
       "      <td>infive.ae.    Home - In5 Innovation Centers   ...</td>\n",
       "    </tr>\n",
       "    <tr>\n",
       "      <th>1</th>\n",
       "      <td>infive.ae</td>\n",
       "      <td>infive.ae .    Home - In5 Innovation Centers  ...</td>\n",
       "    </tr>\n",
       "    <tr>\n",
       "      <th>2</th>\n",
       "      <td>infive.ae about us</td>\n",
       "      <td>infive.ae about us.    About us - In5 Innovati...</td>\n",
       "    </tr>\n",
       "    <tr>\n",
       "      <th>3</th>\n",
       "      <td>infive.ae all events</td>\n",
       "      <td>infive.ae all events.    Events - In5 Innovati...</td>\n",
       "    </tr>\n",
       "    <tr>\n",
       "      <th>4</th>\n",
       "      <td>infive.ae atypical</td>\n",
       "      <td>infive.ae atypical.    Atypical - In5 Innovati...</td>\n",
       "    </tr>\n",
       "  </tbody>\n",
       "</table>\n",
       "</div>"
      ],
      "text/plain": [
       "                  fname                                               text\n",
       "0             infive.ae  infive.ae.    Home - In5 Innovation Centers   ...\n",
       "1            infive.ae   infive.ae .    Home - In5 Innovation Centers  ...\n",
       "2    infive.ae about us  infive.ae about us.    About us - In5 Innovati...\n",
       "3  infive.ae all events  infive.ae all events.    Events - In5 Innovati...\n",
       "4    infive.ae atypical  infive.ae atypical.    Atypical - In5 Innovati..."
      ]
     },
     "execution_count": 36,
     "metadata": {},
     "output_type": "execute_result"
    }
   ],
   "source": [
    "df['text'] = df.fname + \". \" + remove_newlines(df.text)\n",
    "df.head()"
   ]
  },
  {
   "cell_type": "code",
   "execution_count": 37,
   "metadata": {},
   "outputs": [],
   "source": [
    "df['CharacterCount'] = df['text'].apply(lambda x: len(str(x)))"
   ]
  },
  {
   "cell_type": "code",
   "execution_count": 38,
   "metadata": {},
   "outputs": [
    {
     "data": {
      "text/html": [
       "<div>\n",
       "<style scoped>\n",
       "    .dataframe tbody tr th:only-of-type {\n",
       "        vertical-align: middle;\n",
       "    }\n",
       "\n",
       "    .dataframe tbody tr th {\n",
       "        vertical-align: top;\n",
       "    }\n",
       "\n",
       "    .dataframe thead th {\n",
       "        text-align: right;\n",
       "    }\n",
       "</style>\n",
       "<table border=\"1\" class=\"dataframe\">\n",
       "  <thead>\n",
       "    <tr style=\"text-align: right;\">\n",
       "      <th></th>\n",
       "      <th>fname</th>\n",
       "      <th>text</th>\n",
       "      <th>CharacterCount</th>\n",
       "    </tr>\n",
       "  </thead>\n",
       "  <tbody>\n",
       "    <tr>\n",
       "      <th>0</th>\n",
       "      <td>infive.ae</td>\n",
       "      <td>infive.ae.    Home - In5 Innovation Centers   ...</td>\n",
       "      <td>8292</td>\n",
       "    </tr>\n",
       "    <tr>\n",
       "      <th>1</th>\n",
       "      <td>infive.ae</td>\n",
       "      <td>infive.ae .    Home - In5 Innovation Centers  ...</td>\n",
       "      <td>8293</td>\n",
       "    </tr>\n",
       "    <tr>\n",
       "      <th>2</th>\n",
       "      <td>infive.ae about us</td>\n",
       "      <td>infive.ae about us.    About us - In5 Innovati...</td>\n",
       "      <td>6308</td>\n",
       "    </tr>\n",
       "    <tr>\n",
       "      <th>3</th>\n",
       "      <td>infive.ae all events</td>\n",
       "      <td>infive.ae all events.    Events - In5 Innovati...</td>\n",
       "      <td>3437</td>\n",
       "    </tr>\n",
       "    <tr>\n",
       "      <th>4</th>\n",
       "      <td>infive.ae atypical</td>\n",
       "      <td>infive.ae atypical.    Atypical - In5 Innovati...</td>\n",
       "      <td>3552</td>\n",
       "    </tr>\n",
       "    <tr>\n",
       "      <th>...</th>\n",
       "      <td>...</td>\n",
       "      <td>...</td>\n",
       "      <td>...</td>\n",
       "    </tr>\n",
       "    <tr>\n",
       "      <th>58</th>\n",
       "      <td>infive.ae setup directory</td>\n",
       "      <td>infive.ae setup directory.     DIRECTORY – In5...</td>\n",
       "      <td>167694</td>\n",
       "    </tr>\n",
       "    <tr>\n",
       "      <th>59</th>\n",
       "      <td>infive.ae setup login</td>\n",
       "      <td>infive.ae setup login.      Login – In5 Innova...</td>\n",
       "      <td>1494</td>\n",
       "    </tr>\n",
       "    <tr>\n",
       "      <th>60</th>\n",
       "      <td>infive.ae startups 2</td>\n",
       "      <td>infive.ae startups 2.    Startups - In5 Innova...</td>\n",
       "      <td>3054</td>\n",
       "    </tr>\n",
       "    <tr>\n",
       "      <th>61</th>\n",
       "      <td>infive.ae startups</td>\n",
       "      <td>infive.ae startups.    Startups - In5 Innovati...</td>\n",
       "      <td>3052</td>\n",
       "    </tr>\n",
       "    <tr>\n",
       "      <th>62</th>\n",
       "      <td>infive.ae student membership regsitration</td>\n",
       "      <td>infive.ae student membership regsitration.    ...</td>\n",
       "      <td>4079</td>\n",
       "    </tr>\n",
       "  </tbody>\n",
       "</table>\n",
       "<p>63 rows × 3 columns</p>\n",
       "</div>"
      ],
      "text/plain": [
       "                                        fname  \\\n",
       "0                                   infive.ae   \n",
       "1                                  infive.ae    \n",
       "2                          infive.ae about us   \n",
       "3                        infive.ae all events   \n",
       "4                          infive.ae atypical   \n",
       "..                                        ...   \n",
       "58                  infive.ae setup directory   \n",
       "59                      infive.ae setup login   \n",
       "60                       infive.ae startups 2   \n",
       "61                         infive.ae startups   \n",
       "62  infive.ae student membership regsitration   \n",
       "\n",
       "                                                 text  CharacterCount  \n",
       "0   infive.ae.    Home - In5 Innovation Centers   ...            8292  \n",
       "1   infive.ae .    Home - In5 Innovation Centers  ...            8293  \n",
       "2   infive.ae about us.    About us - In5 Innovati...            6308  \n",
       "3   infive.ae all events.    Events - In5 Innovati...            3437  \n",
       "4   infive.ae atypical.    Atypical - In5 Innovati...            3552  \n",
       "..                                                ...             ...  \n",
       "58  infive.ae setup directory.     DIRECTORY – In5...          167694  \n",
       "59  infive.ae setup login.      Login – In5 Innova...            1494  \n",
       "60  infive.ae startups 2.    Startups - In5 Innova...            3054  \n",
       "61  infive.ae startups.    Startups - In5 Innovati...            3052  \n",
       "62  infive.ae student membership regsitration.    ...            4079  \n",
       "\n",
       "[63 rows x 3 columns]"
      ]
     },
     "execution_count": 38,
     "metadata": {},
     "output_type": "execute_result"
    }
   ],
   "source": [
    "df"
   ]
  },
  {
   "cell_type": "code",
   "execution_count": 39,
   "metadata": {},
   "outputs": [],
   "source": [
    "from textwrap import wrap\n",
    "def splitLargeCell(df):\n",
    "    charLen=0\n",
    "    charindex=0\n",
    "    tempFname=''\n",
    "    newdf=pd.DataFrame(columns=['fname','text'])\n",
    "    for i in range(0,len(df['CharacterCount'])):\n",
    "        if df['CharacterCount'][i] > 30000:\n",
    "            charLen=df['CharacterCount'][i]\n",
    "            charindex=i\n",
    "    splitStringList= wrap(df['text'][charindex],30000)\n",
    "    tempFname=df['fname'][charindex]\n",
    "    for i in range(0,len(splitStringList)):\n",
    "        newdf.loc[charindex+i]={'fname':tempFname,'text':splitStringList[i]}    \n",
    "    df=df.drop([charindex])\n",
    "    df=pd.concat([df.iloc[:charindex],newdf,df.iloc[charindex:]]).reset_index(drop=True)\n",
    "    df=df.drop(['CharacterCount'],axis=1)\n",
    "    return df\n",
    "    "
   ]
  },
  {
   "cell_type": "code",
   "execution_count": 40,
   "metadata": {},
   "outputs": [],
   "source": [
    "df=splitLargeCell(df)"
   ]
  },
  {
   "cell_type": "code",
   "execution_count": 41,
   "metadata": {},
   "outputs": [
    {
     "data": {
      "text/html": [
       "<div>\n",
       "<style scoped>\n",
       "    .dataframe tbody tr th:only-of-type {\n",
       "        vertical-align: middle;\n",
       "    }\n",
       "\n",
       "    .dataframe tbody tr th {\n",
       "        vertical-align: top;\n",
       "    }\n",
       "\n",
       "    .dataframe thead th {\n",
       "        text-align: right;\n",
       "    }\n",
       "</style>\n",
       "<table border=\"1\" class=\"dataframe\">\n",
       "  <thead>\n",
       "    <tr style=\"text-align: right;\">\n",
       "      <th></th>\n",
       "      <th>fname</th>\n",
       "      <th>text</th>\n",
       "    </tr>\n",
       "  </thead>\n",
       "  <tbody>\n",
       "    <tr>\n",
       "      <th>0</th>\n",
       "      <td>infive.ae</td>\n",
       "      <td>infive.ae.    Home - In5 Innovation Centers   ...</td>\n",
       "    </tr>\n",
       "    <tr>\n",
       "      <th>1</th>\n",
       "      <td>infive.ae</td>\n",
       "      <td>infive.ae .    Home - In5 Innovation Centers  ...</td>\n",
       "    </tr>\n",
       "    <tr>\n",
       "      <th>2</th>\n",
       "      <td>infive.ae about us</td>\n",
       "      <td>infive.ae about us.    About us - In5 Innovati...</td>\n",
       "    </tr>\n",
       "    <tr>\n",
       "      <th>3</th>\n",
       "      <td>infive.ae all events</td>\n",
       "      <td>infive.ae all events.    Events - In5 Innovati...</td>\n",
       "    </tr>\n",
       "    <tr>\n",
       "      <th>4</th>\n",
       "      <td>infive.ae atypical</td>\n",
       "      <td>infive.ae atypical.    Atypical - In5 Innovati...</td>\n",
       "    </tr>\n",
       "    <tr>\n",
       "      <th>...</th>\n",
       "      <td>...</td>\n",
       "      <td>...</td>\n",
       "    </tr>\n",
       "    <tr>\n",
       "      <th>63</th>\n",
       "      <td>infive.ae setup directory</td>\n",
       "      <td>exclusivity and keep things fresh and exciting...</td>\n",
       "    </tr>\n",
       "    <tr>\n",
       "      <th>64</th>\n",
       "      <td>infive.ae setup login</td>\n",
       "      <td>infive.ae setup login.      Login – In5 Innova...</td>\n",
       "    </tr>\n",
       "    <tr>\n",
       "      <th>65</th>\n",
       "      <td>infive.ae startups 2</td>\n",
       "      <td>infive.ae startups 2.    Startups - In5 Innova...</td>\n",
       "    </tr>\n",
       "    <tr>\n",
       "      <th>66</th>\n",
       "      <td>infive.ae startups</td>\n",
       "      <td>infive.ae startups.    Startups - In5 Innovati...</td>\n",
       "    </tr>\n",
       "    <tr>\n",
       "      <th>67</th>\n",
       "      <td>infive.ae student membership regsitration</td>\n",
       "      <td>infive.ae student membership regsitration.    ...</td>\n",
       "    </tr>\n",
       "  </tbody>\n",
       "</table>\n",
       "<p>68 rows × 2 columns</p>\n",
       "</div>"
      ],
      "text/plain": [
       "                                        fname  \\\n",
       "0                                   infive.ae   \n",
       "1                                  infive.ae    \n",
       "2                          infive.ae about us   \n",
       "3                        infive.ae all events   \n",
       "4                          infive.ae atypical   \n",
       "..                                        ...   \n",
       "63                  infive.ae setup directory   \n",
       "64                      infive.ae setup login   \n",
       "65                       infive.ae startups 2   \n",
       "66                         infive.ae startups   \n",
       "67  infive.ae student membership regsitration   \n",
       "\n",
       "                                                 text  \n",
       "0   infive.ae.    Home - In5 Innovation Centers   ...  \n",
       "1   infive.ae .    Home - In5 Innovation Centers  ...  \n",
       "2   infive.ae about us.    About us - In5 Innovati...  \n",
       "3   infive.ae all events.    Events - In5 Innovati...  \n",
       "4   infive.ae atypical.    Atypical - In5 Innovati...  \n",
       "..                                                ...  \n",
       "63  exclusivity and keep things fresh and exciting...  \n",
       "64  infive.ae setup login.      Login – In5 Innova...  \n",
       "65  infive.ae startups 2.    Startups - In5 Innova...  \n",
       "66  infive.ae startups.    Startups - In5 Innovati...  \n",
       "67  infive.ae student membership regsitration.    ...  \n",
       "\n",
       "[68 rows x 2 columns]"
      ]
     },
     "execution_count": 41,
     "metadata": {},
     "output_type": "execute_result"
    }
   ],
   "source": [
    "df.head(70)"
   ]
  },
  {
   "cell_type": "code",
   "execution_count": 42,
   "metadata": {},
   "outputs": [],
   "source": [
    "df.to_csv('processed/scraped.csv')"
   ]
  },
  {
   "cell_type": "code",
   "execution_count": 43,
   "metadata": {},
   "outputs": [
    {
     "data": {
      "text/plain": [
       "<AxesSubplot: >"
      ]
     },
     "execution_count": 43,
     "metadata": {},
     "output_type": "execute_result"
    },
    {
     "data": {
      "image/png": "[encoded data removed]",
      "text/plain": [
       "<Figure size 640x480 with 1 Axes>"
      ]
     },
     "metadata": {},
     "output_type": "display_data"
    }
   ],
   "source": [
    "tokenizer = tiktoken.get_encoding(\"cl100k_base\")\n",
    "\n",
    "df = pd.read_csv('processed/scraped.csv', index_col=0)\n",
    "df.columns = ['title', 'text']\n",
    "\n",
    "# Tokenize the text and save the number of tokens to a new column\n",
    "df['n_tokens'] = df.text.apply(lambda x: len(tokenizer.encode(x)))\n",
    "\n",
    "# Visualize the distribution of the number of tokens per row using a histogram\n",
    "df.n_tokens.hist()"
   ]
  },
  {
   "cell_type": "code",
   "execution_count": 44,
   "metadata": {},
   "outputs": [],
   "source": [
    "max_tokens = 500"
   ]
  },
  {
   "cell_type": "code",
   "execution_count": 45,
   "metadata": {},
   "outputs": [],
   "source": [
    "def split_into_many(text, max_tokens = max_tokens):\n",
    "\n",
    "    # Split the text into sentences\n",
    "    sentences = text.split('. ')\n",
    "\n",
    "    # Get the number of tokens for each sentence\n",
    "    n_tokens = [len(tokenizer.encode(\" \" + sentence)) for sentence in sentences]\n",
    "    \n",
    "    chunks = []\n",
    "    tokens_so_far = 0\n",
    "    chunk = []\n",
    "\n",
    "    # Loop through the sentences and tokens joined together in a tuple\n",
    "    for sentence, token in zip(sentences, n_tokens):\n",
    "\n",
    "        # If the number of tokens so far plus the number of tokens in the current sentence is greater \n",
    "        # than the max number of tokens, then add the chunk to the list of chunks and reset\n",
    "        # the chunk and tokens so far\n",
    "        if tokens_so_far + token > max_tokens:\n",
    "            chunks.append(\". \".join(chunk) + \".\")\n",
    "            chunk = []\n",
    "            tokens_so_far = 0\n",
    "\n",
    "        # If the number of tokens in the current sentence is greater than the max number of \n",
    "        # tokens, go to the next sentence\n",
    "        if token > max_tokens:\n",
    "            continue\n",
    "\n",
    "        # Otherwise, add the sentence to the chunk and add the number of tokens to the total\n",
    "        chunk.append(sentence)\n",
    "        tokens_so_far += token + 1\n",
    "        \n",
    "    # Add the last chunk to the list of chunks\n",
    "    if chunk:\n",
    "        chunks.append(\". \".join(chunk) + \".\")\n",
    "\n",
    "    return chunks"
   ]
  },
  {
   "cell_type": "code",
   "execution_count": 46,
   "metadata": {},
   "outputs": [],
   "source": [
    "\n",
    "shortened = []\n",
    "\n",
    "# Loop through the dataframe\n",
    "for row in df.iterrows():\n",
    "\n",
    "    # If the text is None, go to the next row\n",
    "    if row[1]['text'] is None:\n",
    "        continue\n",
    "\n",
    "    # If the number of tokens is greater than the max number of tokens, split the text into chunks\n",
    "    if row[1]['n_tokens'] > max_tokens:\n",
    "        shortened += split_into_many(row[1]['text'])\n",
    "    \n",
    "    # Otherwise, add the text to the list of shortened texts\n",
    "    else:\n",
    "        shortened.append( row[1]['text'] )"
   ]
  },
  {
   "cell_type": "code",
   "execution_count": 47,
   "metadata": {},
   "outputs": [
    {
     "data": {
      "text/plain": [
       "<AxesSubplot: >"
      ]
     },
     "execution_count": 47,
     "metadata": {},
     "output_type": "execute_result"
    },
    {
     "data": {
      "image/png": "[encoded data removed]",
      "text/plain": [
       "<Figure size 640x480 with 1 Axes>"
      ]
     },
     "metadata": {},
     "output_type": "display_data"
    }
   ],
   "source": [
    "df = pd.DataFrame(shortened, columns = ['text'])\n",
    "df['n_tokens'] = df.text.apply(lambda x: len(tokenizer.encode(x)))\n",
    "df.n_tokens.hist()"
   ]
  },
  {
   "cell_type": "code",
   "execution_count": 48,
   "metadata": {},
   "outputs": [
    {
     "data": {
      "text/html": [
       "<div>\n",
       "<style scoped>\n",
       "    .dataframe tbody tr th:only-of-type {\n",
       "        vertical-align: middle;\n",
       "    }\n",
       "\n",
       "    .dataframe tbody tr th {\n",
       "        vertical-align: top;\n",
       "    }\n",
       "\n",
       "    .dataframe thead th {\n",
       "        text-align: right;\n",
       "    }\n",
       "</style>\n",
       "<table border=\"1\" class=\"dataframe\">\n",
       "  <thead>\n",
       "    <tr style=\"text-align: right;\">\n",
       "      <th></th>\n",
       "      <th>text</th>\n",
       "      <th>n_tokens</th>\n",
       "      <th>embeddings</th>\n",
       "    </tr>\n",
       "  </thead>\n",
       "  <tbody>\n",
       "    <tr>\n",
       "      <th>0</th>\n",
       "      <td>infive.ae.</td>\n",
       "      <td>5</td>\n",
       "      <td>[-0.017084967344999313, 0.0019391437526792288,...</td>\n",
       "    </tr>\n",
       "    <tr>\n",
       "      <th>1</th>\n",
       "      <td>Business Setup IndividualMembership Facil...</td>\n",
       "      <td>487</td>\n",
       "      <td>[-0.004425276070833206, 0.008408726193010807, ...</td>\n",
       "    </tr>\n",
       "    <tr>\n",
       "      <th>2</th>\n",
       "      <td>Sectors icon style Technology Design Media Sec...</td>\n",
       "      <td>296</td>\n",
       "      <td>[0.009395490400493145, 0.008284864015877247, -...</td>\n",
       "    </tr>\n",
       "    <tr>\n",
       "      <th>3</th>\n",
       "      <td>Learn more     upcoming events   View All    ...</td>\n",
       "      <td>287</td>\n",
       "      <td>[0.010360229760408401, -0.0065504261292517185,...</td>\n",
       "    </tr>\n",
       "    <tr>\n",
       "      <th>4</th>\n",
       "      <td>infive.ae .</td>\n",
       "      <td>5</td>\n",
       "      <td>[-0.01570676453411579, 0.001779017737135291, -...</td>\n",
       "    </tr>\n",
       "  </tbody>\n",
       "</table>\n",
       "</div>"
      ],
      "text/plain": [
       "                                                text  n_tokens  \\\n",
       "0                                         infive.ae.         5   \n",
       "1       Business Setup IndividualMembership Facil...       487   \n",
       "2  Sectors icon style Technology Design Media Sec...       296   \n",
       "3   Learn more     upcoming events   View All    ...       287   \n",
       "4                                        infive.ae .         5   \n",
       "\n",
       "                                          embeddings  \n",
       "0  [-0.017084967344999313, 0.0019391437526792288,...  \n",
       "1  [-0.004425276070833206, 0.008408726193010807, ...  \n",
       "2  [0.009395490400493145, 0.008284864015877247, -...  \n",
       "3  [0.010360229760408401, -0.0065504261292517185,...  \n",
       "4  [-0.01570676453411579, 0.001779017737135291, -...  "
      ]
     },
     "execution_count": 48,
     "metadata": {},
     "output_type": "execute_result"
    }
   ],
   "source": [
    "df['embeddings'] = df.text.apply(lambda x: openai.Embedding.create(input=x, engine='text-embedding-ada-002')['data'][0]['embedding'])\n",
    "df.to_csv('processed/embeddings.csv')\n",
    "df.head()"
   ]
  },
  {
   "cell_type": "code",
   "execution_count": 3,
   "metadata": {},
   "outputs": [
    {
     "data": {
      "text/html": [
       "<div>\n",
       "<style scoped>\n",
       "    .dataframe tbody tr th:only-of-type {\n",
       "        vertical-align: middle;\n",
       "    }\n",
       "\n",
       "    .dataframe tbody tr th {\n",
       "        vertical-align: top;\n",
       "    }\n",
       "\n",
       "    .dataframe thead th {\n",
       "        text-align: right;\n",
       "    }\n",
       "</style>\n",
       "<table border=\"1\" class=\"dataframe\">\n",
       "  <thead>\n",
       "    <tr style=\"text-align: right;\">\n",
       "      <th></th>\n",
       "      <th>text</th>\n",
       "      <th>n_tokens</th>\n",
       "      <th>embeddings</th>\n",
       "    </tr>\n",
       "  </thead>\n",
       "  <tbody>\n",
       "    <tr>\n",
       "      <th>0</th>\n",
       "      <td>infive.ae.</td>\n",
       "      <td>5</td>\n",
       "      <td>[-0.017084967344999313, 0.0019391437526792288,...</td>\n",
       "    </tr>\n",
       "    <tr>\n",
       "      <th>1</th>\n",
       "      <td>Business Setup IndividualMembership Facil...</td>\n",
       "      <td>487</td>\n",
       "      <td>[-0.004425276070833206, 0.008408726193010807, ...</td>\n",
       "    </tr>\n",
       "    <tr>\n",
       "      <th>2</th>\n",
       "      <td>Sectors icon style Technology Design Media Sec...</td>\n",
       "      <td>296</td>\n",
       "      <td>[0.009395490400493145, 0.008284864015877247, -...</td>\n",
       "    </tr>\n",
       "    <tr>\n",
       "      <th>3</th>\n",
       "      <td>Learn more     upcoming events   View All    ...</td>\n",
       "      <td>287</td>\n",
       "      <td>[0.010360229760408401, -0.0065504261292517185,...</td>\n",
       "    </tr>\n",
       "    <tr>\n",
       "      <th>4</th>\n",
       "      <td>infive.ae .</td>\n",
       "      <td>5</td>\n",
       "      <td>[-0.01570676453411579, 0.001779017737135291, -...</td>\n",
       "    </tr>\n",
       "  </tbody>\n",
       "</table>\n",
       "</div>"
      ],
      "text/plain": [
       "                                                text  n_tokens  \\\n",
       "0                                         infive.ae.         5   \n",
       "1       Business Setup IndividualMembership Facil...       487   \n",
       "2  Sectors icon style Technology Design Media Sec...       296   \n",
       "3   Learn more     upcoming events   View All    ...       287   \n",
       "4                                        infive.ae .         5   \n",
       "\n",
       "                                          embeddings  \n",
       "0  [-0.017084967344999313, 0.0019391437526792288,...  \n",
       "1  [-0.004425276070833206, 0.008408726193010807, ...  \n",
       "2  [0.009395490400493145, 0.008284864015877247, -...  \n",
       "3  [0.010360229760408401, -0.0065504261292517185,...  \n",
       "4  [-0.01570676453411579, 0.001779017737135291, -...  "
      ]
     },
     "execution_count": 3,
     "metadata": {},
     "output_type": "execute_result"
    }
   ],
   "source": [
    "df=pd.read_csv('processed/embeddings.csv', index_col=0)\n",
    "df['embeddings'] = df['embeddings'].apply(eval).apply(np.array)\n",
    "\n",
    "df.head()"
   ]
  },
  {
   "cell_type": "code",
   "execution_count": 4,
   "metadata": {},
   "outputs": [],
   "source": [
    "\n",
    "def create_context(\n",
    "    question, df, max_len=1800, size=\"ada\"\n",
    "):\n",
    "    \"\"\"\n",
    "    Create a context for a question by finding the most similar context from the dataframe\n",
    "    \"\"\"\n",
    "\n",
    "    # Get the embeddings for the question\n",
    "    q_embeddings = openai.Embedding.create(input=question, engine='text-embedding-ada-002')['data'][0]['embedding']\n",
    "\n",
    "    # Get the distances from the embeddings\n",
    "    df['distances'] = distances_from_embeddings(q_embeddings, df['embeddings'].values, distance_metric='cosine')\n",
    "\n",
    "\n",
    "    returns = []\n",
    "    cur_len = 0\n",
    "\n",
    "    # Sort by distance and add the text to the context until the context is too long\n",
    "    for i, row in df.sort_values('distances', ascending=True).iterrows():\n",
    "        \n",
    "        # Add the length of the text to the current length\n",
    "        cur_len += row['n_tokens'] + 4\n",
    "        \n",
    "        # If the context is too long, break\n",
    "        if cur_len > max_len:\n",
    "            break\n",
    "        \n",
    "        # Else add it to the text that is being returned\n",
    "        returns.append(row[\"text\"])\n",
    "\n",
    "    # Return the context\n",
    "    return \"\\n\\n###\\n\\n\".join(returns)\n"
   ]
  },
  {
   "cell_type": "code",
   "execution_count": 5,
   "metadata": {},
   "outputs": [],
   "source": [
    "\n",
    "def answer_question(\n",
    "    df,\n",
    "    model=\"text-davinci-003\",\n",
    "    question=\"Am I allowed to publish model outputs to Twitter, without a human review?\",\n",
    "    max_len=1800,\n",
    "    size=\"ada\",\n",
    "    debug=False,\n",
    "    max_tokens=150,\n",
    "    stop_sequence=None\n",
    "):\n",
    "    \"\"\"\n",
    "    Answer a question based on the most similar context from the dataframe texts\n",
    "    \"\"\"\n",
    "    context = create_context(\n",
    "        question,\n",
    "        df,\n",
    "        max_len=max_len,\n",
    "        size=size,\n",
    "    )\n",
    "    # If debug, print the raw model response\n",
    "    if debug:\n",
    "        print(\"Context:\\n\" + context)\n",
    "        print(\"\\n\\n\")\n",
    "\n",
    "    try:\n",
    "        # Create a completions using the questin and context\n",
    "        response = openai.Completion.create(\n",
    "            prompt=f\"Answer the question based on the context below, and if the question can't be answered based on the context, say \\\"I don't know\\\"\\n\\nContext: {context}\\n\\n---\\n\\nQuestion: {question}\\nAnswer:\",\n",
    "            temperature=0,\n",
    "            max_tokens=max_tokens,\n",
    "            top_p=1,\n",
    "            frequency_penalty=0,\n",
    "            presence_penalty=0,\n",
    "            stop=stop_sequence,\n",
    "            model=model,\n",
    "        )\n",
    "        return response[\"choices\"][0][\"text\"].strip()\n",
    "    except Exception as e:\n",
    "        print(e)\n",
    "        return \"\"\n"
   ]
  },
  {
   "cell_type": "code",
   "execution_count": 6,
   "metadata": {},
   "outputs": [
    {
     "name": "stdout",
     "output_type": "stream",
     "text": [
      "I don't know.\n",
      "I don't know.\n"
     ]
    }
   ],
   "source": [
    "print(answer_question(df, question=\"What day is it?\", debug=False))\n",
    "\n",
    "print(answer_question(df, question=\"What is openAI?\"))"
   ]
  },
  {
   "cell_type": "code",
   "execution_count": 7,
   "metadata": {},
   "outputs": [
    {
     "name": "stdout",
     "output_type": "stream",
     "text": [
      "I don't know.\n"
     ]
    }
   ],
   "source": [
    "print(answer_question(df, question=\"When was OpenAI started? \"))"
   ]
  },
  {
   "cell_type": "code",
   "execution_count": 8,
   "metadata": {},
   "outputs": [
    {
     "name": "stdout",
     "output_type": "stream",
     "text": [
      "infive.ae is an enabling platform for entrepreneurs and startups, fostering innovation and helping new ideas reach the marketplace.\n"
     ]
    }
   ],
   "source": [
    "print(answer_question(df, question=\"What is infive?\"))"
   ]
  },
  {
   "cell_type": "code",
   "execution_count": 9,
   "metadata": {},
   "outputs": [
    {
     "name": "stdout",
     "output_type": "stream",
     "text": [
      "in5 is an enabling platform for entrepreneurs and startups, fostering innovation and helping new ideas reach the marketplace. It offers a comprehensive portfolio of benefits to entrepreneurs, professionals, corporates and students in the fields of Technology, Media and Design. in5 provides access to cutting-edge and specialised facilities as well as a dynamic and creative environment and sessions that foster the development of innovative ideas.\n"
     ]
    }
   ],
   "source": [
    "print(answer_question(df, question=\"What is in5?\"))"
   ]
  },
  {
   "cell_type": "code",
   "execution_count": 10,
   "metadata": {},
   "outputs": [
    {
     "name": "stdout",
     "output_type": "stream",
     "text": [
      "infive.ae has facilities such as meeting rooms, conference halls, board rooms, fashion labs, editing suites, incubation centers, outdoor areas, voice recording studios, multi-functional halls, lounge areas, and main production studios.\n"
     ]
    }
   ],
   "source": [
    "print(answer_question(df, question=\"what facilites does infive have?\"))"
   ]
  },
  {
   "cell_type": "code",
   "execution_count": 11,
   "metadata": {},
   "outputs": [
    {
     "name": "stdout",
     "output_type": "stream",
     "text": [
      "More than 750 start-ups are supported by the incubator since its inception.\n"
     ]
    }
   ],
   "source": [
    "print(answer_question(df, question=\"How many startups are there in infive?\"))"
   ]
  },
  {
   "cell_type": "code",
   "execution_count": 12,
   "metadata": {},
   "outputs": [
    {
     "name": "stdout",
     "output_type": "stream",
     "text": [
      "infive.ae has facilities such as meeting rooms, conference halls, board rooms, fashion labs, editing suites, outdoor areas, training rooms, multi-functional halls, video recording studios, screening rooms, green rooms, production studios, and mini production studios at its tech, media, and design locations.\n"
     ]
    }
   ],
   "source": [
    "print(answer_question(df, question=\"what facilites does in5 have?\"))"
   ]
  },
  {
   "cell_type": "code",
   "execution_count": 13,
   "metadata": {},
   "outputs": [
    {
     "name": "stdout",
     "output_type": "stream",
     "text": [
      "3NDK is the next logistics provider technology, offering a quick solution for an array of customer needs. The application provides a simple and convenient way to order services such as: Pick-up and Delivery Roadside Assistance Vehicle Recovery Moving.\n"
     ]
    }
   ],
   "source": [
    "print(answer_question(df, question=\"What is the 3NDK Tech?\"))"
   ]
  },
  {
   "cell_type": "code",
   "execution_count": 14,
   "metadata": {},
   "outputs": [
    {
     "name": "stdout",
     "output_type": "stream",
     "text": [
      "I don't know.\n"
     ]
    }
   ],
   "source": [
    "print(answer_question(df, question=\"What is The Assembly?\"))"
   ]
  },
  {
   "cell_type": "code",
   "execution_count": 15,
   "metadata": {},
   "outputs": [
    {
     "name": "stdout",
     "output_type": "stream",
     "text": [
      "6-Months Membership Fees AED.1,50012-Months Membership Fees AED.2,500\n"
     ]
    }
   ],
   "source": [
    "print(answer_question(df, question=\"in5 General Membership fees?\"))"
   ]
  },
  {
   "cell_type": "code",
   "execution_count": 16,
   "metadata": {},
   "outputs": [
    {
     "name": "stdout",
     "output_type": "stream",
     "text": [
      "AED 500 annually.\n"
     ]
    }
   ],
   "source": [
    "print(answer_question(df, question=\"in5 student membership fee?\"))"
   ]
  },
  {
   "cell_type": "code",
   "execution_count": 17,
   "metadata": {},
   "outputs": [
    {
     "name": "stdout",
     "output_type": "stream",
     "text": [
      "AED.25/Hour for Startups and Investors, AED.200/Hour for Members, and AED.250/Hour for Non-Members.\n"
     ]
    }
   ],
   "source": [
    "print(answer_question(df, question=\"price for booking a meeting room in in5?\"))"
   ]
  }
 ],
 "metadata": {
  "kernelspec": {
   "display_name": "base",
   "language": "python",
   "name": "python3"
  },
  "language_info": {
   "codemirror_mode": {
    "name": "ipython",
    "version": 3
   },
   "file_extension": ".py",
   "mimetype": "text/x-python",
   "name": "python",
   "nbconvert_exporter": "python",
   "pygments_lexer": "ipython3",
   "version": "3.9.15"
  },
  "orig_nbformat": 4
 },
 "nbformat": 4,
 "nbformat_minor": 2
}
